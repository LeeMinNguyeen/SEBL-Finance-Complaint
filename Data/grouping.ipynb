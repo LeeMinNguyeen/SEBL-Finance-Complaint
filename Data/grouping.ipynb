{
 "cells": [
  {
   "cell_type": "code",
   "execution_count": 1,
   "id": "2227cc9c",
   "metadata": {},
   "outputs": [
    {
     "data": {
      "application/vnd.microsoft.datawrangler.viewer.v0+json": {
       "columns": [
        {
         "name": "index",
         "rawType": "int64",
         "type": "integer"
        },
        {
         "name": "Product",
         "rawType": "object",
         "type": "string"
        },
        {
         "name": "Sub-product",
         "rawType": "object",
         "type": "string"
        },
        {
         "name": "Issue_Group",
         "rawType": "object",
         "type": "string"
        },
        {
         "name": "Issue",
         "rawType": "object",
         "type": "string"
        },
        {
         "name": "Sub-issue",
         "rawType": "object",
         "type": "string"
        }
       ],
       "ref": "4bc7e84f-e84f-4960-8392-e6f1668496e5",
       "rows": [
        [
         "0",
         "Checking or savings account",
         "CD (Certificate of Deposit)",
         "Account Management Issues",
         "Closing an account",
         "Can't close your account"
        ],
        [
         "1",
         "Checking or savings account",
         "CD (Certificate of Deposit)",
         "Account Management Issues",
         "Closing an account",
         "Company closed your account"
        ],
        [
         "2",
         "Checking or savings account",
         "CD (Certificate of Deposit)",
         "Account Management Issues",
         "Closing an account",
         "Fees charged for closing account"
        ],
        [
         "3",
         "Checking or savings account",
         "CD (Certificate of Deposit)",
         "Account Management Issues",
         "Closing an account",
         "Funds not received from closed account"
        ],
        [
         "4",
         "Checking or savings account",
         "CD (Certificate of Deposit)",
         "Account Management Issues",
         "Managing an account",
         "Banking errors"
        ],
        [
         "5",
         "Checking or savings account",
         "CD (Certificate of Deposit)",
         "Account Management Issues",
         "Managing an account",
         "Deposits or withdrawals"
        ],
        [
         "6",
         "Checking or savings account",
         "CD (Certificate of Deposit)",
         "Account Management Issues",
         "Managing an account",
         "Funds not handled or disbursed as instructed"
        ],
        [
         "7",
         "Checking or savings account",
         "CD (Certificate of Deposit)",
         "Account Management Issues",
         "Managing an account",
         "Problem accessing account"
        ],
        [
         "8",
         "Checking or savings account",
         "CD (Certificate of Deposit)",
         "Account Management Issues",
         "Managing an account",
         "Problem with fees or penalties"
        ],
        [
         "9",
         "Checking or savings account",
         "CD (Certificate of Deposit)",
         "Account Management Issues",
         "Managing an account",
         "Problem with renewal"
        ],
        [
         "10",
         "Checking or savings account",
         "CD (Certificate of Deposit)",
         "Account Management Issues",
         "Opening an account",
         "Confusing or missing disclosures"
        ],
        [
         "11",
         "Checking or savings account",
         "CD (Certificate of Deposit)",
         "Account Management Issues",
         "Opening an account",
         "Didn't receive terms that were advertised"
        ],
        [
         "12",
         "Checking or savings account",
         "CD (Certificate of Deposit)",
         "Account Management Issues",
         "Opening an account",
         "Unable to open an account"
        ],
        [
         "13",
         "Checking or savings account",
         "Checking account",
         "Account Management Issues",
         "Closing an account",
         "Can't close your account"
        ],
        [
         "14",
         "Checking or savings account",
         "Checking account",
         "Account Management Issues",
         "Closing an account",
         "Company closed your account"
        ],
        [
         "15",
         "Checking or savings account",
         "Checking account",
         "Account Management Issues",
         "Closing an account",
         "Fees charged for closing account"
        ],
        [
         "16",
         "Checking or savings account",
         "Checking account",
         "Account Management Issues",
         "Closing an account",
         "Funds not received from closed account"
        ],
        [
         "17",
         "Checking or savings account",
         "Checking account",
         "Account Management Issues",
         "Managing an account",
         "Banking errors"
        ],
        [
         "18",
         "Checking or savings account",
         "Checking account",
         "Account Management Issues",
         "Managing an account",
         "Cashing a check"
        ],
        [
         "19",
         "Checking or savings account",
         "Checking account",
         "Account Management Issues",
         "Managing an account",
         "Deposits and withdrawals"
        ],
        [
         "20",
         "Checking or savings account",
         "Checking account",
         "Account Management Issues",
         "Managing an account",
         "Fee problem"
        ],
        [
         "21",
         "Checking or savings account",
         "Checking account",
         "Account Management Issues",
         "Managing an account",
         "Funds not handled or disbursed as instructed"
        ],
        [
         "22",
         "Checking or savings account",
         "Checking account",
         "Account Management Issues",
         "Managing an account",
         "Problem accessing account"
        ],
        [
         "23",
         "Checking or savings account",
         "Checking account",
         "Account Management Issues",
         "Managing an account",
         "Problem making or receiving payments"
        ],
        [
         "24",
         "Checking or savings account",
         "Checking account",
         "Account Management Issues",
         "Managing an account",
         "Problem using a debit or ATM card"
        ],
        [
         "25",
         "Checking or savings account",
         "Checking account",
         "Account Management Issues",
         "Opening an account",
         "Account opened as a result of fraud"
        ],
        [
         "26",
         "Checking or savings account",
         "Checking account",
         "Account Management Issues",
         "Opening an account",
         "Account opened without my consent or knowledge"
        ],
        [
         "27",
         "Checking or savings account",
         "Checking account",
         "Account Management Issues",
         "Opening an account",
         "Confusing or missing disclosures"
        ],
        [
         "28",
         "Checking or savings account",
         "Checking account",
         "Account Management Issues",
         "Opening an account",
         "Didn't receive terms that were advertised"
        ],
        [
         "29",
         "Checking or savings account",
         "Checking account",
         "Account Management Issues",
         "Opening an account",
         "Unable to open an account"
        ],
        [
         "30",
         "Checking or savings account",
         "Checking account",
         "Credit Reporting & Identity Protection",
         "Improper use of your report",
         "Credit inquiries on your report that you don't recognize"
        ],
        [
         "31",
         "Checking or savings account",
         "Checking account",
         "Credit Reporting & Identity Protection",
         "Improper use of your report",
         "Reporting company used your report improperly"
        ],
        [
         "32",
         "Checking or savings account",
         "Checking account",
         "Credit Reporting & Identity Protection",
         "Incorrect information on your report",
         "Account status incorrect"
        ],
        [
         "33",
         "Checking or savings account",
         "Checking account",
         "Credit Reporting & Identity Protection",
         "Incorrect information on your report",
         "Information belongs to someone else"
        ],
        [
         "34",
         "Checking or savings account",
         "Checking account",
         "Credit Reporting & Identity Protection",
         "Incorrect information on your report",
         "Old information reappears or never goes away"
        ],
        [
         "35",
         "Checking or savings account",
         "Checking account",
         "Payment & Transaction Errors",
         "Problem caused by your funds being low",
         "Bounced checks or returned payments"
        ],
        [
         "36",
         "Checking or savings account",
         "Checking account",
         "Payment & Transaction Errors",
         "Problem caused by your funds being low",
         "Late or other fees"
        ],
        [
         "37",
         "Checking or savings account",
         "Checking account",
         "Payment & Transaction Errors",
         "Problem caused by your funds being low",
         "Non-sufficient funds and associated fees"
        ],
        [
         "38",
         "Checking or savings account",
         "Checking account",
         "Payment & Transaction Errors",
         "Problem caused by your funds being low",
         "Overdrafts and overdraft fees"
        ],
        [
         "39",
         "Checking or savings account",
         "Checking account",
         "Poor Service & Broken Promises",
         "Problem with a company's investigation into an existing problem",
         "Problem with personal statement of dispute"
        ],
        [
         "40",
         "Checking or savings account",
         "Checking account",
         "Poor Service & Broken Promises",
         "Problem with a company's investigation into an existing problem",
         "Their investigation did not fix an error on your report"
        ],
        [
         "41",
         "Checking or savings account",
         "Checking account",
         "Poor Service & Broken Promises",
         "Problem with a lender or other company charging your account",
         "Can't stop withdrawals from your account"
        ],
        [
         "42",
         "Checking or savings account",
         "Checking account",
         "Poor Service & Broken Promises",
         "Problem with a lender or other company charging your account",
         "Money was taken from your account on the wrong day or for the wrong amount"
        ],
        [
         "43",
         "Checking or savings account",
         "Checking account",
         "Poor Service & Broken Promises",
         "Problem with a lender or other company charging your account",
         "Transaction was not authorized"
        ],
        [
         "44",
         "Checking or savings account",
         "Other banking product or service",
         "Account Management Issues",
         "Closing an account",
         "Can't close your account"
        ],
        [
         "45",
         "Checking or savings account",
         "Other banking product or service",
         "Account Management Issues",
         "Closing an account",
         "Company closed your account"
        ],
        [
         "46",
         "Checking or savings account",
         "Other banking product or service",
         "Account Management Issues",
         "Closing an account",
         "Funds not received from closed account"
        ],
        [
         "47",
         "Checking or savings account",
         "Other banking product or service",
         "Account Management Issues",
         "Managing an account",
         "Banking errors"
        ],
        [
         "48",
         "Checking or savings account",
         "Other banking product or service",
         "Account Management Issues",
         "Managing an account",
         "Cashing a check"
        ],
        [
         "49",
         "Checking or savings account",
         "Other banking product or service",
         "Account Management Issues",
         "Managing an account",
         "Deposits and withdrawals"
        ]
       ],
       "shape": {
        "columns": 5,
        "rows": 599
       }
      },
      "text/html": [
       "<div>\n",
       "<style scoped>\n",
       "    .dataframe tbody tr th:only-of-type {\n",
       "        vertical-align: middle;\n",
       "    }\n",
       "\n",
       "    .dataframe tbody tr th {\n",
       "        vertical-align: top;\n",
       "    }\n",
       "\n",
       "    .dataframe thead th {\n",
       "        text-align: right;\n",
       "    }\n",
       "</style>\n",
       "<table border=\"1\" class=\"dataframe\">\n",
       "  <thead>\n",
       "    <tr style=\"text-align: right;\">\n",
       "      <th></th>\n",
       "      <th>Product</th>\n",
       "      <th>Sub-product</th>\n",
       "      <th>Issue_Group</th>\n",
       "      <th>Issue</th>\n",
       "      <th>Sub-issue</th>\n",
       "    </tr>\n",
       "  </thead>\n",
       "  <tbody>\n",
       "    <tr>\n",
       "      <th>0</th>\n",
       "      <td>Checking or savings account</td>\n",
       "      <td>CD (Certificate of Deposit)</td>\n",
       "      <td>Account Management Issues</td>\n",
       "      <td>Closing an account</td>\n",
       "      <td>Can't close your account</td>\n",
       "    </tr>\n",
       "    <tr>\n",
       "      <th>1</th>\n",
       "      <td>Checking or savings account</td>\n",
       "      <td>CD (Certificate of Deposit)</td>\n",
       "      <td>Account Management Issues</td>\n",
       "      <td>Closing an account</td>\n",
       "      <td>Company closed your account</td>\n",
       "    </tr>\n",
       "    <tr>\n",
       "      <th>2</th>\n",
       "      <td>Checking or savings account</td>\n",
       "      <td>CD (Certificate of Deposit)</td>\n",
       "      <td>Account Management Issues</td>\n",
       "      <td>Closing an account</td>\n",
       "      <td>Fees charged for closing account</td>\n",
       "    </tr>\n",
       "    <tr>\n",
       "      <th>3</th>\n",
       "      <td>Checking or savings account</td>\n",
       "      <td>CD (Certificate of Deposit)</td>\n",
       "      <td>Account Management Issues</td>\n",
       "      <td>Closing an account</td>\n",
       "      <td>Funds not received from closed account</td>\n",
       "    </tr>\n",
       "    <tr>\n",
       "      <th>4</th>\n",
       "      <td>Checking or savings account</td>\n",
       "      <td>CD (Certificate of Deposit)</td>\n",
       "      <td>Account Management Issues</td>\n",
       "      <td>Managing an account</td>\n",
       "      <td>Banking errors</td>\n",
       "    </tr>\n",
       "    <tr>\n",
       "      <th>...</th>\n",
       "      <td>...</td>\n",
       "      <td>...</td>\n",
       "      <td>...</td>\n",
       "      <td>...</td>\n",
       "      <td>...</td>\n",
       "    </tr>\n",
       "    <tr>\n",
       "      <th>594</th>\n",
       "      <td>Vehicle loan or lease</td>\n",
       "      <td>Loan</td>\n",
       "      <td>Poor Service &amp; Broken Promises</td>\n",
       "      <td>Problem with a company's investigation into an...</td>\n",
       "      <td>Problem with personal statement of dispute</td>\n",
       "    </tr>\n",
       "    <tr>\n",
       "      <th>595</th>\n",
       "      <td>Vehicle loan or lease</td>\n",
       "      <td>Loan</td>\n",
       "      <td>Poor Service &amp; Broken Promises</td>\n",
       "      <td>Problem with a company's investigation into an...</td>\n",
       "      <td>Their investigation did not fix an error on yo...</td>\n",
       "    </tr>\n",
       "    <tr>\n",
       "      <th>596</th>\n",
       "      <td>Vehicle loan or lease</td>\n",
       "      <td>Loan</td>\n",
       "      <td>Poor Service &amp; Broken Promises</td>\n",
       "      <td>Problem with a company's investigation into an...</td>\n",
       "      <td>Was not notified of investigation status or re...</td>\n",
       "    </tr>\n",
       "    <tr>\n",
       "      <th>597</th>\n",
       "      <td>Vehicle loan or lease</td>\n",
       "      <td>Title loan</td>\n",
       "      <td>Credit Reporting &amp; Identity Protection</td>\n",
       "      <td>Improper use of your report</td>\n",
       "      <td>Reporting company used your report improperly</td>\n",
       "    </tr>\n",
       "    <tr>\n",
       "      <th>598</th>\n",
       "      <td>Vehicle loan or lease</td>\n",
       "      <td>Title loan</td>\n",
       "      <td>Credit Reporting &amp; Identity Protection</td>\n",
       "      <td>Incorrect information on your report</td>\n",
       "      <td>Account status incorrect</td>\n",
       "    </tr>\n",
       "  </tbody>\n",
       "</table>\n",
       "<p>599 rows × 5 columns</p>\n",
       "</div>"
      ],
      "text/plain": [
       "                         Product                  Sub-product  \\\n",
       "0    Checking or savings account  CD (Certificate of Deposit)   \n",
       "1    Checking or savings account  CD (Certificate of Deposit)   \n",
       "2    Checking or savings account  CD (Certificate of Deposit)   \n",
       "3    Checking or savings account  CD (Certificate of Deposit)   \n",
       "4    Checking or savings account  CD (Certificate of Deposit)   \n",
       "..                           ...                          ...   \n",
       "594        Vehicle loan or lease                         Loan   \n",
       "595        Vehicle loan or lease                         Loan   \n",
       "596        Vehicle loan or lease                         Loan   \n",
       "597        Vehicle loan or lease                   Title loan   \n",
       "598        Vehicle loan or lease                   Title loan   \n",
       "\n",
       "                                Issue_Group  \\\n",
       "0                 Account Management Issues   \n",
       "1                 Account Management Issues   \n",
       "2                 Account Management Issues   \n",
       "3                 Account Management Issues   \n",
       "4                 Account Management Issues   \n",
       "..                                      ...   \n",
       "594          Poor Service & Broken Promises   \n",
       "595          Poor Service & Broken Promises   \n",
       "596          Poor Service & Broken Promises   \n",
       "597  Credit Reporting & Identity Protection   \n",
       "598  Credit Reporting & Identity Protection   \n",
       "\n",
       "                                                 Issue  \\\n",
       "0                                   Closing an account   \n",
       "1                                   Closing an account   \n",
       "2                                   Closing an account   \n",
       "3                                   Closing an account   \n",
       "4                                  Managing an account   \n",
       "..                                                 ...   \n",
       "594  Problem with a company's investigation into an...   \n",
       "595  Problem with a company's investigation into an...   \n",
       "596  Problem with a company's investigation into an...   \n",
       "597                        Improper use of your report   \n",
       "598               Incorrect information on your report   \n",
       "\n",
       "                                             Sub-issue  \n",
       "0                             Can't close your account  \n",
       "1                          Company closed your account  \n",
       "2                     Fees charged for closing account  \n",
       "3               Funds not received from closed account  \n",
       "4                                       Banking errors  \n",
       "..                                                 ...  \n",
       "594         Problem with personal statement of dispute  \n",
       "595  Their investigation did not fix an error on yo...  \n",
       "596  Was not notified of investigation status or re...  \n",
       "597      Reporting company used your report improperly  \n",
       "598                           Account status incorrect  \n",
       "\n",
       "[599 rows x 5 columns]"
      ]
     },
     "execution_count": 1,
     "metadata": {},
     "output_type": "execute_result"
    }
   ],
   "source": [
    "# Loaded variable 'df' from URI: e:\\Project\\SEBL-Finance-Complaint\\Data\\Complaint_grouping.csv\n",
    "import pandas as pd\n",
    "df = pd.read_csv(r'./Complaint_grouping.csv')\n",
    "\n",
    "# Python\n",
    "# Grouping by product, sub-product, issue_group, issue, sub-issue\n",
    "df = df.groupby(['Product', 'Sub-product', 'Issue_Group', 'Issue', 'Sub-issue']).size().reset_index(name='Answer')\n",
    "\n",
    "# Remove duplicates based on specific columns\n",
    "df = df.drop_duplicates(subset=['Product', 'Sub-product', 'Issue_Group', 'Issue', 'Sub-issue'])\n",
    "\n",
    "# Drop column: 'Answer'\n",
    "df = df.drop(columns=['Answer'])\n",
    "\n",
    "df"
   ]
  },
  {
   "cell_type": "code",
   "execution_count": 2,
   "id": "98fa858f",
   "metadata": {},
   "outputs": [],
   "source": [
    "df.to_csv('Complaint_grouping_cleaned.csv', index=False)"
   ]
  }
 ],
 "metadata": {
  "kernelspec": {
   "display_name": "Python 3",
   "language": "python",
   "name": "python3"
  },
  "language_info": {
   "codemirror_mode": {
    "name": "ipython",
    "version": 3
   },
   "file_extension": ".py",
   "mimetype": "text/x-python",
   "name": "python",
   "nbconvert_exporter": "python",
   "pygments_lexer": "ipython3",
   "version": "3.13.5"
  }
 },
 "nbformat": 4,
 "nbformat_minor": 5
}
